{
 "cells": [
  {
   "cell_type": "code",
   "execution_count": 1,
   "metadata": {},
   "outputs": [],
   "source": [
    "import numpy as np"
   ]
  },
  {
   "cell_type": "code",
   "execution_count": 2,
   "metadata": {},
   "outputs": [],
   "source": [
    "hist = np.load('poisson_2d_convergence.npz', allow_pickle=True)\n",
    "hist_1_GS = hist['hist_1_GS'].item()\n",
    "hist_1_J = hist['hist_1_J'].item()"
   ]
  },
  {
   "cell_type": "code",
   "execution_count": 3,
   "metadata": {},
   "outputs": [],
   "source": [
    "def G(n):\n",
    "    A = np.eye(n**2)*(-4)\\\n",
    "        + np.eye(n**2, k=1)\\\n",
    "        + np.eye(n**2, k=-1)\\\n",
    "        + np.eye(n**2, k=n)\\\n",
    "        + np.eye(n**2, k=-n)\n",
    "    # Gauss-Seidel matrix\n",
    "    A *= (n+1)**2\n",
    "    D = np.diag(np.diag(A))\n",
    "    L = np.tril(A, -1)\n",
    "    U = np.triu(A, 1)\n",
    "    G = np.linalg.inv(D+L)@U\n",
    "    # get the operator 2-norm of G\n",
    "    rho = np.linalg.norm(G, 2)\n",
    "    return rho\n",
    "\n",
    "def J(n):\n",
    "    A = np.eye(n**2)*(-4)\\\n",
    "        + np.eye(n**2, k=1)\\\n",
    "        + np.eye(n**2, k=-1)\\\n",
    "        + np.eye(n**2, k=n)\\\n",
    "        + np.eye(n**2, k=-n)\n",
    "    # Gauss-Seidel matrix\n",
    "    A *= (n+1)**2\n",
    "    D = np.diag(np.diag(A))\n",
    "    L = np.tril(A, -1)\n",
    "    U = np.triu(A, 1)\n",
    "    J = np.linalg.inv(D)@(L + U)\n",
    "    # get the operator 2-norm of G\n",
    "    rho = np.linalg.norm(J, 2)\n",
    "    return rho\n",
    "    "
   ]
  },
  {
   "cell_type": "code",
   "execution_count": 4,
   "metadata": {},
   "outputs": [
    {
     "name": "stdout",
     "output_type": "stream",
     "text": [
      "For n = 16\n",
      "rho: 0.9833\n",
      "estimated rho: 0.9886\n",
      "For n = 32\n",
      "rho: 0.9955\n",
      "estimated rho: 0.9970\n",
      "For n = 64\n",
      "rho: 0.9988\n",
      "estimated rho: 0.9992\n"
     ]
    }
   ],
   "source": [
    "for n in [16, 32, 64]:\n",
    "    print(f'For n = {n}')\n",
    "    print(f'rho: {G(n):.4f}')\n",
    "    print(f'estimated rho: {1 -  np.pi**2/(3*(n+1)**2):.4f}')"
   ]
  },
  {
   "cell_type": "code",
   "execution_count": 5,
   "metadata": {},
   "outputs": [
    {
     "name": "stdout",
     "output_type": "stream",
     "text": [
      "n = 16\n",
      "iterations for convergence (GS): 1127\n",
      "Slope of log convergence plot (GS): -1.7347e-02\n",
      "log(rho(G)): -1.6844e-02\n",
      "n = 32\n",
      "iterations for convergence (GS): 4435\n",
      "Slope of log convergence plot (GS): -4.5534e-03\n",
      "log(rho(G)): -4.5003e-03\n",
      "n = 64\n",
      "iterations for convergence (GS): 17842\n",
      "Slope of log convergence plot (GS): -1.1697e-03\n",
      "log(rho(G)): -1.1638e-03\n",
      "n = 16\n",
      "iterations for convergence (Jacobi): 2247\n",
      "Slope of log convergence plot (Jacobi): -8.6903e-03\n",
      "log(rho(Jacobi)): -8.6903e-03\n",
      "n = 32\n",
      "iterations for convergence (Jacobi): 8863\n",
      "Slope of log convergence plot (Jacobi): -2.2779e-03\n",
      "log(rho(Jacobi)): -2.2779e-03\n",
      "n = 64\n",
      "iterations for convergence (Jacobi): 35676\n",
      "Slope of log convergence plot (Jacobi): -5.8492e-04\n",
      "log(rho(Jacobi)): -5.8492e-04\n"
     ]
    }
   ],
   "source": [
    "for n in hist_1_GS.keys():\n",
    "    print(f'n = {n}')\n",
    "    print(f'iterations for convergence (GS): {len(hist_1_GS[n])}')\n",
    "    # use linear least squares to estimate the convergence rate\n",
    "    # Take the log of the residual\n",
    "    log_residual = np.log(hist_1_GS[n][300:])\n",
    "    # use polyfit to fit a line to the log of the residual\n",
    "    p = np.polyfit(np.arange(len(log_residual))[300:], log_residual[300:], 1)\n",
    "    print(f'Slope of log convergence plot (GS): {p[0]:.4e}')\n",
    "    print(f'log(rho(G)): {np.log(G(n)):.4e}')\n",
    "\n",
    "for n in hist_1_J.keys():\n",
    "    print(f'n = {n}')\n",
    "    print(f'iterations for convergence (Jacobi): {len(hist_1_J[n])}')\n",
    "    # use linear least squares to estimate the convergence rate\n",
    "    # Take the log of the residual\n",
    "    log_residual = np.log(hist_1_J[n][300:])\n",
    "    # use polyfit to fit a line to the log of the residual\n",
    "    p = np.polyfit(np.arange(len(log_residual))[300:], log_residual[300:], 1)\n",
    "    print(f'Slope of log convergence plot (Jacobi): {p[0]:.4e}')\n",
    "    print(f'log(rho(Jacobi)): {np.log(J(n)):.4e}')\n",
    "\n",
    "\n"
   ]
  }
 ],
 "metadata": {
  "kernelspec": {
   "display_name": "cbo",
   "language": "python",
   "name": "python3"
  },
  "language_info": {
   "codemirror_mode": {
    "name": "ipython",
    "version": 3
   },
   "file_extension": ".py",
   "mimetype": "text/x-python",
   "name": "python",
   "nbconvert_exporter": "python",
   "pygments_lexer": "ipython3",
   "version": "3.9.18"
  }
 },
 "nbformat": 4,
 "nbformat_minor": 2
}
